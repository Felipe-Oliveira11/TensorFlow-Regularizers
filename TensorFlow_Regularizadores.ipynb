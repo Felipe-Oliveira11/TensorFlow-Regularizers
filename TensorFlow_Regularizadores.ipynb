{
  "nbformat": 4,
  "nbformat_minor": 0,
  "metadata": {
    "colab": {
      "name": "TensorFlow_Regularizadores",
      "provenance": [],
      "collapsed_sections": [],
      "mount_file_id": "1farvwQDktdCIyBsl8XWhtEEGpLFFmybn",
      "authorship_tag": "ABX9TyNo8os5vp46FNHjpLBqYBHU",
      "include_colab_link": true
    },
    "kernelspec": {
      "name": "python3",
      "display_name": "Python 3"
    }
  },
  "cells": [
    {
      "cell_type": "markdown",
      "metadata": {
        "id": "view-in-github",
        "colab_type": "text"
      },
      "source": [
        "<a href=\"https://colab.research.google.com/github/Felipe-Oliveira11/TensorFlow-Regularizers/blob/master/TensorFlow_Regularizadores.ipynb\" target=\"_parent\"><img src=\"https://colab.research.google.com/assets/colab-badge.svg\" alt=\"Open In Colab\"/></a>"
      ]
    },
    {
      "cell_type": "markdown",
      "metadata": {
        "id": "n3DArytdQnjl",
        "colab_type": "text"
      },
      "source": [
        "### TensorFlow Regularizers \n",
        "\n",
        "\n",
        "<br>\n",
        "<hr>"
      ]
    },
    {
      "cell_type": "code",
      "metadata": {
        "id": "6Sb9LvYPQb83",
        "colab_type": "code",
        "colab": {
          "base_uri": "https://localhost:8080/",
          "height": 309
        },
        "outputId": "fd783e03-a252-4d7c-f4de-aa5ed166f729"
      },
      "source": [
        "!pip install mlxtend\n",
        "\n",
        "import numpy as np \n",
        "import pandas as pd \n",
        "import matplotlib.pyplot as plt \n",
        "import seaborn as sns \n",
        "\n",
        "%matplotlib inline \n",
        "import warnings\n",
        "warnings.filterwarnings('ignore')\n",
        "\n",
        "from sklearn.preprocessing import LabelEncoder\n",
        "from sklearn.preprocessing import StandardScaler\n",
        "from sklearn.metrics import classification_report\n",
        "from sklearn.metrics import roc_auc_score, roc_curve, confusion_matrix\n",
        "from sklearn.model_selection import train_test_split\n",
        "from mlxtend.plotting import plot_confusion_matrix\n",
        "\n",
        "\n",
        "import tensorflow as tf\n",
        "from tensorflow import keras \n",
        "from tensorflow.keras.models import save_model\n",
        "from tensorflow.keras.models import load_model\n",
        "from tensorflow.keras import Sequential\n",
        "from tensorflow.keras.layers import Dense, InputLayer\n",
        "from tensorflow.keras.layers import Flatten\n",
        "from tensorflow.keras.layers import BatchNormalization\n",
        "from tensorflow.keras.optimizers import Adam, SGD, RMSprop\n",
        "from tensorflow.keras.losses import BinaryCrossentropy\n",
        "\n",
        "\n",
        "\n",
        "from tensorflow.keras.regularizers import L1\n",
        "from tensorflow.keras.regularizers import L2\n",
        "from tensorflow.keras.regularizers import L1L2"
      ],
      "execution_count": 1,
      "outputs": [
        {
          "output_type": "stream",
          "text": [
            "Requirement already satisfied: mlxtend in /usr/local/lib/python3.6/dist-packages (0.14.0)\n",
            "Requirement already satisfied: pandas>=0.17.1 in /usr/local/lib/python3.6/dist-packages (from mlxtend) (1.0.5)\n",
            "Requirement already satisfied: numpy>=1.10.4 in /usr/local/lib/python3.6/dist-packages (from mlxtend) (1.18.5)\n",
            "Requirement already satisfied: scipy>=0.17 in /usr/local/lib/python3.6/dist-packages (from mlxtend) (1.4.1)\n",
            "Requirement already satisfied: matplotlib>=1.5.1 in /usr/local/lib/python3.6/dist-packages (from mlxtend) (3.2.2)\n",
            "Requirement already satisfied: scikit-learn>=0.18 in /usr/local/lib/python3.6/dist-packages (from mlxtend) (0.22.2.post1)\n",
            "Requirement already satisfied: setuptools in /usr/local/lib/python3.6/dist-packages (from mlxtend) (49.2.0)\n",
            "Requirement already satisfied: pytz>=2017.2 in /usr/local/lib/python3.6/dist-packages (from pandas>=0.17.1->mlxtend) (2018.9)\n",
            "Requirement already satisfied: python-dateutil>=2.6.1 in /usr/local/lib/python3.6/dist-packages (from pandas>=0.17.1->mlxtend) (2.8.1)\n",
            "Requirement already satisfied: cycler>=0.10 in /usr/local/lib/python3.6/dist-packages (from matplotlib>=1.5.1->mlxtend) (0.10.0)\n",
            "Requirement already satisfied: pyparsing!=2.0.4,!=2.1.2,!=2.1.6,>=2.0.1 in /usr/local/lib/python3.6/dist-packages (from matplotlib>=1.5.1->mlxtend) (2.4.7)\n",
            "Requirement already satisfied: kiwisolver>=1.0.1 in /usr/local/lib/python3.6/dist-packages (from matplotlib>=1.5.1->mlxtend) (1.2.0)\n",
            "Requirement already satisfied: joblib>=0.11 in /usr/local/lib/python3.6/dist-packages (from scikit-learn>=0.18->mlxtend) (0.16.0)\n",
            "Requirement already satisfied: six>=1.5 in /usr/local/lib/python3.6/dist-packages (from python-dateutil>=2.6.1->pandas>=0.17.1->mlxtend) (1.15.0)\n"
          ],
          "name": "stdout"
        },
        {
          "output_type": "stream",
          "text": [
            "/usr/local/lib/python3.6/dist-packages/statsmodels/tools/_testing.py:19: FutureWarning: pandas.util.testing is deprecated. Use the functions in the public API at pandas.testing instead.\n",
            "  import pandas.util.testing as tm\n"
          ],
          "name": "stderr"
        }
      ]
    },
    {
      "cell_type": "code",
      "metadata": {
        "id": "YDd3R5dSS6Hx",
        "colab_type": "code",
        "colab": {}
      },
      "source": [
        "np.random.seed(42)\n",
        "tf.random.set_seed(42)"
      ],
      "execution_count": 2,
      "outputs": []
    },
    {
      "cell_type": "code",
      "metadata": {
        "id": "hsN5ZLCrQ16u",
        "colab_type": "code",
        "colab": {
          "base_uri": "https://localhost:8080/",
          "height": 241
        },
        "outputId": "ec79e8c6-ff13-46d7-fc88-b7014749cd0b"
      },
      "source": [
        "path = '/content/drive/My Drive/Machine Learning - Notebooks/Marketing /campaigns.csv'\n",
        "marketing = pd.read_csv(path)\n",
        "marketing.head()"
      ],
      "execution_count": 3,
      "outputs": [
        {
          "output_type": "execute_result",
          "data": {
            "text/html": [
              "<div>\n",
              "<style scoped>\n",
              "    .dataframe tbody tr th:only-of-type {\n",
              "        vertical-align: middle;\n",
              "    }\n",
              "\n",
              "    .dataframe tbody tr th {\n",
              "        vertical-align: top;\n",
              "    }\n",
              "\n",
              "    .dataframe thead th {\n",
              "        text-align: right;\n",
              "    }\n",
              "</style>\n",
              "<table border=\"1\" class=\"dataframe\">\n",
              "  <thead>\n",
              "    <tr style=\"text-align: right;\">\n",
              "      <th></th>\n",
              "      <th>Unnamed: 0</th>\n",
              "      <th>age</th>\n",
              "      <th>job</th>\n",
              "      <th>marital</th>\n",
              "      <th>education</th>\n",
              "      <th>default</th>\n",
              "      <th>balance</th>\n",
              "      <th>housing</th>\n",
              "      <th>loan</th>\n",
              "      <th>contact</th>\n",
              "      <th>day</th>\n",
              "      <th>month</th>\n",
              "      <th>duration</th>\n",
              "      <th>campaign</th>\n",
              "      <th>pdays</th>\n",
              "      <th>previous</th>\n",
              "      <th>poutcome</th>\n",
              "      <th>y</th>\n",
              "    </tr>\n",
              "  </thead>\n",
              "  <tbody>\n",
              "    <tr>\n",
              "      <th>0</th>\n",
              "      <td>0</td>\n",
              "      <td>58</td>\n",
              "      <td>management</td>\n",
              "      <td>married</td>\n",
              "      <td>tertiary</td>\n",
              "      <td>no</td>\n",
              "      <td>2143</td>\n",
              "      <td>yes</td>\n",
              "      <td>no</td>\n",
              "      <td>unknown</td>\n",
              "      <td>5</td>\n",
              "      <td>may</td>\n",
              "      <td>261</td>\n",
              "      <td>1</td>\n",
              "      <td>-1</td>\n",
              "      <td>0</td>\n",
              "      <td>unknown</td>\n",
              "      <td>no</td>\n",
              "    </tr>\n",
              "    <tr>\n",
              "      <th>1</th>\n",
              "      <td>1</td>\n",
              "      <td>44</td>\n",
              "      <td>technician</td>\n",
              "      <td>single</td>\n",
              "      <td>secondary</td>\n",
              "      <td>no</td>\n",
              "      <td>29</td>\n",
              "      <td>yes</td>\n",
              "      <td>no</td>\n",
              "      <td>unknown</td>\n",
              "      <td>5</td>\n",
              "      <td>may</td>\n",
              "      <td>151</td>\n",
              "      <td>1</td>\n",
              "      <td>-1</td>\n",
              "      <td>0</td>\n",
              "      <td>unknown</td>\n",
              "      <td>no</td>\n",
              "    </tr>\n",
              "    <tr>\n",
              "      <th>2</th>\n",
              "      <td>2</td>\n",
              "      <td>33</td>\n",
              "      <td>entrepreneur</td>\n",
              "      <td>married</td>\n",
              "      <td>secondary</td>\n",
              "      <td>no</td>\n",
              "      <td>2</td>\n",
              "      <td>yes</td>\n",
              "      <td>yes</td>\n",
              "      <td>unknown</td>\n",
              "      <td>5</td>\n",
              "      <td>may</td>\n",
              "      <td>76</td>\n",
              "      <td>1</td>\n",
              "      <td>-1</td>\n",
              "      <td>0</td>\n",
              "      <td>unknown</td>\n",
              "      <td>no</td>\n",
              "    </tr>\n",
              "    <tr>\n",
              "      <th>3</th>\n",
              "      <td>3</td>\n",
              "      <td>47</td>\n",
              "      <td>blue-collar</td>\n",
              "      <td>married</td>\n",
              "      <td>unknown</td>\n",
              "      <td>no</td>\n",
              "      <td>1506</td>\n",
              "      <td>yes</td>\n",
              "      <td>no</td>\n",
              "      <td>unknown</td>\n",
              "      <td>5</td>\n",
              "      <td>may</td>\n",
              "      <td>92</td>\n",
              "      <td>1</td>\n",
              "      <td>-1</td>\n",
              "      <td>0</td>\n",
              "      <td>unknown</td>\n",
              "      <td>no</td>\n",
              "    </tr>\n",
              "    <tr>\n",
              "      <th>4</th>\n",
              "      <td>4</td>\n",
              "      <td>33</td>\n",
              "      <td>unknown</td>\n",
              "      <td>single</td>\n",
              "      <td>unknown</td>\n",
              "      <td>no</td>\n",
              "      <td>1</td>\n",
              "      <td>no</td>\n",
              "      <td>no</td>\n",
              "      <td>unknown</td>\n",
              "      <td>5</td>\n",
              "      <td>may</td>\n",
              "      <td>198</td>\n",
              "      <td>1</td>\n",
              "      <td>-1</td>\n",
              "      <td>0</td>\n",
              "      <td>unknown</td>\n",
              "      <td>no</td>\n",
              "    </tr>\n",
              "  </tbody>\n",
              "</table>\n",
              "</div>"
            ],
            "text/plain": [
              "   Unnamed: 0  age           job  marital  ... pdays previous  poutcome   y\n",
              "0           0   58    management  married  ...    -1        0   unknown  no\n",
              "1           1   44    technician   single  ...    -1        0   unknown  no\n",
              "2           2   33  entrepreneur  married  ...    -1        0   unknown  no\n",
              "3           3   47   blue-collar  married  ...    -1        0   unknown  no\n",
              "4           4   33       unknown   single  ...    -1        0   unknown  no\n",
              "\n",
              "[5 rows x 18 columns]"
            ]
          },
          "metadata": {
            "tags": []
          },
          "execution_count": 3
        }
      ]
    },
    {
      "cell_type": "code",
      "metadata": {
        "id": "VlaaDjiYui8j",
        "colab_type": "code",
        "colab": {}
      },
      "source": [
        "class_names = ['Aceita', 'Recusada']"
      ],
      "execution_count": 4,
      "outputs": []
    },
    {
      "cell_type": "code",
      "metadata": {
        "id": "zf6uHMePSxkW",
        "colab_type": "code",
        "colab": {}
      },
      "source": [
        "marketing.drop('Unnamed: 0', axis=1, inplace=True)\n",
        "\n",
        "\n",
        "# label target \n",
        "label = LabelEncoder()\n",
        "marketing['y'] = label.fit_transform(marketing[['y']])\n",
        "\n",
        "\n",
        "# tipo de variáveis \n",
        "cat_cols = marketing.select_dtypes(include=['object']).columns \n",
        "num_cols = marketing.select_dtypes(include=['float64', 'int64']).columns\n",
        "\n",
        "\n",
        "\n",
        "# encoding categóricas \n",
        "dummies = pd.get_dummies(marketing[cat_cols], prefix=cat_cols, drop_first=True)\n",
        "marketing = pd.concat([marketing, dummies], axis=1)\n",
        "marketing.drop(cat_cols, axis=1, inplace=True)\n",
        "marketing.shape\n",
        "\n",
        "\n",
        "# split \n",
        "X = marketing.drop('y', axis=1)\n",
        "y = marketing['y']\n",
        "\n",
        "X_train, X_test, y_train, y_test = train_test_split(X,y, test_size=0.30, random_state=42)\n",
        "\n",
        "# padronização\n",
        "std = StandardScaler()\n",
        "X_train = std.fit_transform(X_train)\n",
        "X_test = std.transform(X_test)"
      ],
      "execution_count": 5,
      "outputs": []
    },
    {
      "cell_type": "code",
      "metadata": {
        "id": "H6f6bwJDYLC7",
        "colab_type": "code",
        "colab": {
          "base_uri": "https://localhost:8080/",
          "height": 289
        },
        "outputId": "5aa11de9-7d5f-47bf-9943-a1d2d1323637"
      },
      "source": [
        "model = Sequential()\n",
        "model.add(InputLayer(input_shape=(X_train.shape[1])))\n",
        "model.add(Dense(units=20, activation='relu'))\n",
        "model.add(BatchNormalization(axis=1))\n",
        "model.add(Dense(units=20, activation='relu', kernel_regularizer=L1L2(l1=0.0001, l2=0.0001)))\n",
        "model.add(Dense(units=1, activation='sigmoid'))\n",
        "\n",
        "model.summary()"
      ],
      "execution_count": 14,
      "outputs": [
        {
          "output_type": "stream",
          "text": [
            "Model: \"sequential_1\"\n",
            "_________________________________________________________________\n",
            "Layer (type)                 Output Shape              Param #   \n",
            "=================================================================\n",
            "dense_4 (Dense)              (None, 20)                860       \n",
            "_________________________________________________________________\n",
            "batch_normalization_1 (Batch (None, 20)                80        \n",
            "_________________________________________________________________\n",
            "dense_5 (Dense)              (None, 20)                420       \n",
            "_________________________________________________________________\n",
            "dense_6 (Dense)              (None, 1)                 21        \n",
            "=================================================================\n",
            "Total params: 1,381\n",
            "Trainable params: 1,341\n",
            "Non-trainable params: 40\n",
            "_________________________________________________________________\n"
          ],
          "name": "stdout"
        }
      ]
    },
    {
      "cell_type": "code",
      "metadata": {
        "id": "AwOi_G4oZHu-",
        "colab_type": "code",
        "colab": {}
      },
      "source": [
        "optimizer = Adam(learning_rate=0.001)\n",
        "loss = BinaryCrossentropy()\n",
        "metrics = ['accuracy']\n",
        "\n",
        "\n",
        "model.compile(optimizer=optimizer,\n",
        "              loss=loss,\n",
        "              metrics=metrics)"
      ],
      "execution_count": 15,
      "outputs": []
    },
    {
      "cell_type": "code",
      "metadata": {
        "id": "EGCGzi9CZY5y",
        "colab_type": "code",
        "colab": {
          "base_uri": "https://localhost:8080/",
          "height": 1000
        },
        "outputId": "6e4fd8d8-37aa-4b2d-ad53-85f0bcf95ac6"
      },
      "source": [
        "history = model.fit(X_train, y_train,\n",
        "                    batch_size=128,\n",
        "                    epochs=50,\n",
        "                    validation_data=(X_test, y_test))"
      ],
      "execution_count": 16,
      "outputs": [
        {
          "output_type": "stream",
          "text": [
            "Epoch 1/50\n",
            "223/223 [==============================] - 0s 2ms/step - loss: 0.3665 - accuracy: 0.8631 - val_loss: 0.2850 - val_accuracy: 0.8882\n",
            "Epoch 2/50\n",
            "223/223 [==============================] - 0s 1ms/step - loss: 0.2514 - accuracy: 0.9007 - val_loss: 0.2485 - val_accuracy: 0.8960\n",
            "Epoch 3/50\n",
            "223/223 [==============================] - 0s 2ms/step - loss: 0.2332 - accuracy: 0.9038 - val_loss: 0.2392 - val_accuracy: 0.8979\n",
            "Epoch 4/50\n",
            "223/223 [==============================] - 0s 2ms/step - loss: 0.2260 - accuracy: 0.9071 - val_loss: 0.2341 - val_accuracy: 0.8987\n",
            "Epoch 5/50\n",
            "223/223 [==============================] - 0s 1ms/step - loss: 0.2212 - accuracy: 0.9064 - val_loss: 0.2317 - val_accuracy: 0.8988\n",
            "Epoch 6/50\n",
            "223/223 [==============================] - 0s 2ms/step - loss: 0.2175 - accuracy: 0.9068 - val_loss: 0.2294 - val_accuracy: 0.8994\n",
            "Epoch 7/50\n",
            "223/223 [==============================] - 0s 2ms/step - loss: 0.2146 - accuracy: 0.9081 - val_loss: 0.2273 - val_accuracy: 0.9014\n",
            "Epoch 8/50\n",
            "223/223 [==============================] - 0s 2ms/step - loss: 0.2122 - accuracy: 0.9100 - val_loss: 0.2271 - val_accuracy: 0.9005\n",
            "Epoch 9/50\n",
            "223/223 [==============================] - 0s 2ms/step - loss: 0.2102 - accuracy: 0.9088 - val_loss: 0.2258 - val_accuracy: 0.9006\n",
            "Epoch 10/50\n",
            "223/223 [==============================] - 0s 2ms/step - loss: 0.2079 - accuracy: 0.9110 - val_loss: 0.2245 - val_accuracy: 0.9009\n",
            "Epoch 11/50\n",
            "223/223 [==============================] - 0s 1ms/step - loss: 0.2061 - accuracy: 0.9102 - val_loss: 0.2235 - val_accuracy: 0.9005\n",
            "Epoch 12/50\n",
            "223/223 [==============================] - 0s 2ms/step - loss: 0.2050 - accuracy: 0.9114 - val_loss: 0.2231 - val_accuracy: 0.9008\n",
            "Epoch 13/50\n",
            "223/223 [==============================] - 0s 1ms/step - loss: 0.2032 - accuracy: 0.9127 - val_loss: 0.2234 - val_accuracy: 0.8997\n",
            "Epoch 14/50\n",
            "223/223 [==============================] - 0s 1ms/step - loss: 0.2027 - accuracy: 0.9125 - val_loss: 0.2228 - val_accuracy: 0.8992\n",
            "Epoch 15/50\n",
            "223/223 [==============================] - 0s 1ms/step - loss: 0.2008 - accuracy: 0.9124 - val_loss: 0.2208 - val_accuracy: 0.9006\n",
            "Epoch 16/50\n",
            "223/223 [==============================] - 0s 1ms/step - loss: 0.2002 - accuracy: 0.9129 - val_loss: 0.2215 - val_accuracy: 0.8999\n",
            "Epoch 17/50\n",
            "223/223 [==============================] - 0s 2ms/step - loss: 0.1989 - accuracy: 0.9129 - val_loss: 0.2208 - val_accuracy: 0.9004\n",
            "Epoch 18/50\n",
            "223/223 [==============================] - 0s 2ms/step - loss: 0.1988 - accuracy: 0.9135 - val_loss: 0.2196 - val_accuracy: 0.9017\n",
            "Epoch 19/50\n",
            "223/223 [==============================] - 0s 1ms/step - loss: 0.1982 - accuracy: 0.9126 - val_loss: 0.2194 - val_accuracy: 0.9013\n",
            "Epoch 20/50\n",
            "223/223 [==============================] - 0s 1ms/step - loss: 0.1964 - accuracy: 0.9138 - val_loss: 0.2196 - val_accuracy: 0.9024\n",
            "Epoch 21/50\n",
            "223/223 [==============================] - 0s 2ms/step - loss: 0.1961 - accuracy: 0.9142 - val_loss: 0.2190 - val_accuracy: 0.9019\n",
            "Epoch 22/50\n",
            "223/223 [==============================] - 0s 1ms/step - loss: 0.1950 - accuracy: 0.9139 - val_loss: 0.2188 - val_accuracy: 0.9012\n",
            "Epoch 23/50\n",
            "223/223 [==============================] - 0s 1ms/step - loss: 0.1945 - accuracy: 0.9141 - val_loss: 0.2191 - val_accuracy: 0.9019\n",
            "Epoch 24/50\n",
            "223/223 [==============================] - 0s 2ms/step - loss: 0.1944 - accuracy: 0.9155 - val_loss: 0.2190 - val_accuracy: 0.8999\n",
            "Epoch 25/50\n",
            "223/223 [==============================] - 0s 2ms/step - loss: 0.1941 - accuracy: 0.9162 - val_loss: 0.2195 - val_accuracy: 0.9019\n",
            "Epoch 26/50\n",
            "223/223 [==============================] - 0s 2ms/step - loss: 0.1934 - accuracy: 0.9155 - val_loss: 0.2191 - val_accuracy: 0.9028\n",
            "Epoch 27/50\n",
            "223/223 [==============================] - 0s 2ms/step - loss: 0.1928 - accuracy: 0.9157 - val_loss: 0.2186 - val_accuracy: 0.9012\n",
            "Epoch 28/50\n",
            "223/223 [==============================] - 0s 1ms/step - loss: 0.1925 - accuracy: 0.9158 - val_loss: 0.2196 - val_accuracy: 0.9014\n",
            "Epoch 29/50\n",
            "223/223 [==============================] - 0s 1ms/step - loss: 0.1930 - accuracy: 0.9152 - val_loss: 0.2181 - val_accuracy: 0.9028\n",
            "Epoch 30/50\n",
            "223/223 [==============================] - 0s 2ms/step - loss: 0.1916 - accuracy: 0.9161 - val_loss: 0.2190 - val_accuracy: 0.8996\n",
            "Epoch 31/50\n",
            "223/223 [==============================] - 0s 1ms/step - loss: 0.1919 - accuracy: 0.9151 - val_loss: 0.2191 - val_accuracy: 0.9028\n",
            "Epoch 32/50\n",
            "223/223 [==============================] - 0s 2ms/step - loss: 0.1915 - accuracy: 0.9155 - val_loss: 0.2178 - val_accuracy: 0.9018\n",
            "Epoch 33/50\n",
            "223/223 [==============================] - 0s 2ms/step - loss: 0.1907 - accuracy: 0.9164 - val_loss: 0.2201 - val_accuracy: 0.9021\n",
            "Epoch 34/50\n",
            "223/223 [==============================] - 0s 1ms/step - loss: 0.1902 - accuracy: 0.9165 - val_loss: 0.2202 - val_accuracy: 0.9006\n",
            "Epoch 35/50\n",
            "223/223 [==============================] - 0s 2ms/step - loss: 0.1891 - accuracy: 0.9171 - val_loss: 0.2198 - val_accuracy: 0.9017\n",
            "Epoch 36/50\n",
            "223/223 [==============================] - 0s 2ms/step - loss: 0.1891 - accuracy: 0.9160 - val_loss: 0.2181 - val_accuracy: 0.9016\n",
            "Epoch 37/50\n",
            "223/223 [==============================] - 0s 1ms/step - loss: 0.1878 - accuracy: 0.9171 - val_loss: 0.2170 - val_accuracy: 0.9037\n",
            "Epoch 38/50\n",
            "223/223 [==============================] - 0s 2ms/step - loss: 0.1886 - accuracy: 0.9175 - val_loss: 0.2185 - val_accuracy: 0.9040\n",
            "Epoch 39/50\n",
            "223/223 [==============================] - 0s 1ms/step - loss: 0.1881 - accuracy: 0.9182 - val_loss: 0.2180 - val_accuracy: 0.9018\n",
            "Epoch 40/50\n",
            "223/223 [==============================] - 0s 2ms/step - loss: 0.1886 - accuracy: 0.9166 - val_loss: 0.2185 - val_accuracy: 0.9035\n",
            "Epoch 41/50\n",
            "223/223 [==============================] - 0s 2ms/step - loss: 0.1881 - accuracy: 0.9177 - val_loss: 0.2166 - val_accuracy: 0.9028\n",
            "Epoch 42/50\n",
            "223/223 [==============================] - 0s 2ms/step - loss: 0.1868 - accuracy: 0.9176 - val_loss: 0.2170 - val_accuracy: 0.9027\n",
            "Epoch 43/50\n",
            "223/223 [==============================] - 0s 1ms/step - loss: 0.1857 - accuracy: 0.9192 - val_loss: 0.2178 - val_accuracy: 0.9029\n",
            "Epoch 44/50\n",
            "223/223 [==============================] - 0s 2ms/step - loss: 0.1866 - accuracy: 0.9182 - val_loss: 0.2169 - val_accuracy: 0.9039\n",
            "Epoch 45/50\n",
            "223/223 [==============================] - 0s 2ms/step - loss: 0.1862 - accuracy: 0.9179 - val_loss: 0.2171 - val_accuracy: 0.9035\n",
            "Epoch 46/50\n",
            "223/223 [==============================] - 0s 1ms/step - loss: 0.1867 - accuracy: 0.9189 - val_loss: 0.2181 - val_accuracy: 0.9017\n",
            "Epoch 47/50\n",
            "223/223 [==============================] - 0s 2ms/step - loss: 0.1855 - accuracy: 0.9187 - val_loss: 0.2185 - val_accuracy: 0.9033\n",
            "Epoch 48/50\n",
            "223/223 [==============================] - 0s 2ms/step - loss: 0.1855 - accuracy: 0.9185 - val_loss: 0.2181 - val_accuracy: 0.9056\n",
            "Epoch 49/50\n",
            "223/223 [==============================] - 0s 2ms/step - loss: 0.1852 - accuracy: 0.9189 - val_loss: 0.2184 - val_accuracy: 0.9014\n",
            "Epoch 50/50\n",
            "223/223 [==============================] - 0s 2ms/step - loss: 0.1843 - accuracy: 0.9206 - val_loss: 0.2172 - val_accuracy: 0.9032\n"
          ],
          "name": "stdout"
        }
      ]
    },
    {
      "cell_type": "code",
      "metadata": {
        "id": "2JmptevTeBBk",
        "colab_type": "code",
        "colab": {
          "base_uri": "https://localhost:8080/",
          "height": 441
        },
        "outputId": "046fc6e2-130c-44e2-8e2d-c8d2ed5dda34"
      },
      "source": [
        "fig, ax = plt.subplots(1,2, figsize=(12,6))\n",
        "\n",
        "# Loss \n",
        "ax[0].plot(history.epoch, history.history['loss'], color='blue', label='Loss')\n",
        "ax[0].plot(history.epoch, history.history['val_loss'], color='orange', label='Val_loss')\n",
        "ax[0].set_title('Loss', fontsize=14)\n",
        "ax[0].set_xlabel('Epochs')\n",
        "ax[0].set_ylabel('Loss')\n",
        "ax[0].legend()\n",
        "\n",
        "\n",
        "\n",
        "# Accuracy \n",
        "ax[1].plot(history.epoch, history.history['accuracy'], color='blue', label='accuracy')\n",
        "ax[1].plot(history.epoch, history.history['val_accuracy'], color='orange', label='Val_accuracy')\n",
        "ax[1].set_title('Accuracy', fontsize=14)\n",
        "ax[1].set_xlabel('Epochs')\n",
        "ax[1].set_ylabel('Loss')\n",
        "ax[1].legend()\n",
        "\n",
        "\n",
        "plt.tight_layout()\n",
        "plt.show()"
      ],
      "execution_count": 17,
      "outputs": [
        {
          "output_type": "display_data",
          "data": {
            "image/png": "[encoded data removed]",
            "text/plain": [
              "<Figure size 864x432 with 2 Axes>"
            ]
          },
          "metadata": {
            "tags": [],
            "needs_background": "light"
          }
        }
      ]
    },
    {
      "cell_type": "code",
      "metadata": {
        "id": "l_yvEZ1je5sK",
        "colab_type": "code",
        "colab": {
          "base_uri": "https://localhost:8080/",
          "height": 170
        },
        "outputId": "c37aa62d-09d9-45b0-8dcf-098eea0a58c2"
      },
      "source": [
        "y_pred = model.predict(X_test)\n",
        "y_pred = np.argmax(y_pred, axis=1)\n",
        "\n",
        "print(classification_report(y_test, y_pred))"
      ],
      "execution_count": 18,
      "outputs": [
        {
          "output_type": "stream",
          "text": [
            "              precision    recall  f1-score   support\n",
            "\n",
            "           0       0.88      1.00      0.93     10716\n",
            "           1       0.00      0.00      0.00      1491\n",
            "\n",
            "    accuracy                           0.88     12207\n",
            "   macro avg       0.44      0.50      0.47     12207\n",
            "weighted avg       0.77      0.88      0.82     12207\n",
            "\n"
          ],
          "name": "stdout"
        }
      ]
    },
    {
      "cell_type": "code",
      "metadata": {
        "id": "igdqXp06g94C",
        "colab_type": "code",
        "colab": {
          "base_uri": "https://localhost:8080/",
          "height": 420
        },
        "outputId": "535dae8a-8cb2-40d7-e0ba-1a4c1801d580"
      },
      "source": [
        "cm = confusion_matrix(y_test, y_pred)\n",
        "plot_confusion_matrix(conf_mat=cm, figsize=(10,6), cmap='Purples')\n",
        "plt.title('Confusion Matrix')\n",
        "plt.show()"
      ],
      "execution_count": 11,
      "outputs": [
        {
          "output_type": "display_data",
          "data": {
            "image/png": "[encoded data removed]",
            "text/plain": [
              "<Figure size 720x432 with 1 Axes>"
            ]
          },
          "metadata": {
            "tags": [],
            "needs_background": "light"
          }
        }
      ]
    },
    {
      "cell_type": "code",
      "metadata": {
        "id": "XVByHfstjiqe",
        "colab_type": "code",
        "colab": {
          "base_uri": "https://localhost:8080/",
          "height": 88
        },
        "outputId": "620eaa6b-bf9a-4989-a4d3-5bc16534aedf"
      },
      "source": [
        "y_proba = model.predict_proba(X_test)"
      ],
      "execution_count": 12,
      "outputs": [
        {
          "output_type": "stream",
          "text": [
            "WARNING:tensorflow:From <ipython-input-12-c237ec8776e9>:1: Sequential.predict_proba (from tensorflow.python.keras.engine.sequential) is deprecated and will be removed after 2021-01-01.\n",
            "Instructions for updating:\n",
            "Please use `model.predict()` instead.\n"
          ],
          "name": "stdout"
        }
      ]
    },
    {
      "cell_type": "code",
      "metadata": {
        "id": "FaLRX8IOjUOY",
        "colab_type": "code",
        "colab": {
          "base_uri": "https://localhost:8080/",
          "height": 441
        },
        "outputId": "683be389-6956-451e-932c-7c1f44572d0f"
      },
      "source": [
        "fpr, tpr, thresholds = roc_curve(y_test, y_proba)\n",
        "\n",
        "plt.figure(figsize=(12,6))\n",
        "plt.plot(fpr, tpr, color='blue', label='ROC AUC : {}%'.format(round(roc_auc_score(y_test, y_proba)*100)))\n",
        "plt.fill_between(fpr, tpr, color='skyblue', alpha=0.3)\n",
        "plt.plot([0,1], [0,1], color='black', ls='--', label='Reference line')\n",
        "plt.title('ROC CURVE', fontsize=14)\n",
        "plt.xlabel('False Positive Rate', fontsize=12)\n",
        "plt.ylabel('True Positive Rate', fontsize=12)\n",
        "plt.legend()\n",
        "plt.tight_layout()\n",
        "plt.show()"
      ],
      "execution_count": 13,
      "outputs": [
        {
          "output_type": "display_data",
          "data": {
            "image/png": "[encoded data removed]",
            "text/plain": [
              "<Figure size 864x432 with 1 Axes>"
            ]
          },
          "metadata": {
            "tags": [],
            "needs_background": "light"
          }
        }
      ]
    }
  ]
}